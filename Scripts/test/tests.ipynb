{
 "cells": [
  {
   "cell_type": "code",
   "execution_count": 1,
   "id": "pending-texas",
   "metadata": {},
   "outputs": [],
   "source": [
    "%matplotlib inline\n",
    "import tensorflow as tf\n",
    "import tensorflow.keras as K\n",
    "from tensorflow.keras.datasets import mnist\n",
    "from sklearn.preprocessing import normalize\n",
    "import numpy as np\n",
    "import matplotlib.pyplot as plt\n",
    "from sklearn import manifold"
   ]
  },
  {
   "cell_type": "markdown",
   "id": "herbal-battery",
   "metadata": {},
   "source": [
    "# Afficher les GPUs"
   ]
  },
  {
   "cell_type": "code",
   "execution_count": 2,
   "id": "surgical-watts",
   "metadata": {},
   "outputs": [
    {
     "name": "stdout",
     "output_type": "stream",
     "text": [
      "Num GPUs Available:  1\n",
      "Num logical GPUs:  1\n"
     ]
    }
   ],
   "source": [
    "print(\"Num GPUs Available: \", len(tf.config.list_physical_devices('GPU')))\n",
    "tf.debugging.set_log_device_placement(True)\n",
    "logical_gpus = tf.config.experimental.list_logical_devices('GPU')\n",
    "print(\"Num logical GPUs: \", len(tf.config.list_physical_devices('GPU')))"
   ]
  },
  {
   "cell_type": "markdown",
   "id": "covered-emergency",
   "metadata": {},
   "source": [
    "# Recuperation des data"
   ]
  },
  {
   "cell_type": "code",
   "execution_count": 3,
   "id": "bulgarian-domestic",
   "metadata": {},
   "outputs": [],
   "source": [
    "(x_train, y_train), (x_test, y_test) = mnist.load_data()"
   ]
  },
  {
   "cell_type": "code",
   "execution_count": 4,
   "id": "religious-district",
   "metadata": {},
   "outputs": [
    {
     "name": "stdout",
     "output_type": "stream",
     "text": [
      "(60000, 28, 28)\n"
     ]
    }
   ],
   "source": [
    "print(x_train.shape)"
   ]
  },
  {
   "cell_type": "code",
   "execution_count": 5,
   "id": "foreign-general",
   "metadata": {},
   "outputs": [
    {
     "name": "stdout",
     "output_type": "stream",
     "text": [
      "(60000, 28, 28, 1)\n",
      "(60000, 10)\n",
      "(10000, 28, 28, 1)\n",
      "(10000, 10)\n"
     ]
    }
   ],
   "source": [
    "n_classes = 10\n",
    "\n",
    "x_train = x_train.astype('float32') / 255.\n",
    "x_test = x_test.astype('float32') / 255.\n",
    "\n",
    "x_train = x_train.reshape((x_train.shape[0],x_train.shape[1],x_train.shape[2], 1))\n",
    "x_test = x_test.reshape((x_test.shape[0],x_test.shape[1], x_test.shape[2], 1))\n",
    "\n",
    "y_train = K.utils.to_categorical(y_train, n_classes)\n",
    "y_test = K.utils.to_categorical(y_test, n_classes)\n",
    "print(x_train.shape)\n",
    "print(y_train.shape)\n",
    "print(x_test.shape)\n",
    "print(y_test.shape)\n"
   ]
  },
  {
   "cell_type": "markdown",
   "id": "micro-evans",
   "metadata": {},
   "source": [
    "# Construction d'un model d'autoencoder sequentiel test"
   ]
  },
  {
   "cell_type": "code",
   "execution_count": null,
   "id": "american-cyprus",
   "metadata": {},
   "outputs": [],
   "source": [
    "encoding_dim = 10\n",
    "input_shape = x_train.shape[1:]\n",
    "\n",
    "encoder = K.Sequential([\n",
    "    K.layers.InputLayer(input_shape),\n",
    "    K.layers.Conv2D(64, (3,3), activation='relu'),\n",
    "    K.layers.Conv2D(32, (3,3), activation='relu'),\n",
    "    K.layers.Conv2D(10, (3,3), activation='relu'),\n",
    "    K.layers.Flatten(),\n",
    "    K.layers.Dense(encoding_dim, activation='sigmoid')\n",
    "\n",
    "])\n",
    "\n",
    "encoder.compile(optimizer='Adam' ,loss = 'categorical_crossentropy', metrics=['accuracy'])\n",
    "encoder.summary()\n"
   ]
  },
  {
   "cell_type": "code",
   "execution_count": null,
   "id": "infectious-greeting",
   "metadata": {},
   "outputs": [],
   "source": [
    "\n",
    "history = encoder.fit(x_train, y_train,\n",
    "                epochs=50,\n",
    "                batch_size=256,\n",
    "                shuffle=True,\n",
    "                validation_data=(x_test, y_test))\n"
   ]
  },
  {
   "cell_type": "markdown",
   "id": "surprised-bundle",
   "metadata": {},
   "source": [
    "# learning losses"
   ]
  },
  {
   "cell_type": "code",
   "execution_count": null,
   "id": "grateful-smith",
   "metadata": {},
   "outputs": [],
   "source": [
    "ax1, = plt.plot(history.history[\"loss\"],label=\"train loss\")\n",
    "ax2, = plt.plot(history.history[\"val_loss\"],label=\"test loss\")\n",
    "plt.legend(handles=[ax1, ax2])\n",
    "plt.show()\n",
    "ax1, = plt.plot(history.history[\"accuracy\"],label=\"accuracy\")\n",
    "ax2, = plt.plot(history.history[\"val_accuracy\"],label=\"test accuracy\")\n",
    "plt.legend(handles=[ax1, ax2])\n",
    "plt.show()\n",
    "\n",
    "print(\"max accuracy reached is {}%\".format(np.max(history.history[\"val_accuracy\"])*100))"
   ]
  },
  {
   "cell_type": "markdown",
   "id": "opponent-atlanta",
   "metadata": {},
   "source": [
    "# Save model"
   ]
  },
  {
   "cell_type": "code",
   "execution_count": null,
   "id": "velvet-retention",
   "metadata": {},
   "outputs": [],
   "source": [
    "model_path = \"models/encoder_test.h5\"\n",
    "encoder.save(model_path)\n",
    "del encoder"
   ]
  },
  {
   "cell_type": "markdown",
   "id": "associate-store",
   "metadata": {},
   "source": [
    "# Load model"
   ]
  },
  {
   "cell_type": "code",
   "execution_count": null,
   "id": "wired-contamination",
   "metadata": {},
   "outputs": [],
   "source": [
    "encoder = K.models.load_model(model_path)"
   ]
  },
  {
   "cell_type": "markdown",
   "id": "hispanic-music",
   "metadata": {},
   "source": [
    "# Look at predictions"
   ]
  },
  {
   "cell_type": "code",
   "execution_count": null,
   "id": "atmospheric-patient",
   "metadata": {},
   "outputs": [],
   "source": [
    "preds = encoder.predict_classes(x_test)\n",
    "print(preds.shape)"
   ]
  },
  {
   "cell_type": "code",
   "execution_count": null,
   "id": "educational-escape",
   "metadata": {},
   "outputs": [],
   "source": [
    "n=5\n",
    "plt.figure(figsize=(20,10))\n",
    "for i in range(n*n):\n",
    "    # Display image\n",
    "    ax = plt.subplot(n, n, i+1)\n",
    "    plt.imshow(x_test[i].reshape(28, 28))\n",
    "    plt.gray()\n",
    "    ax.get_xaxis().set_visible(False)\n",
    "    ax.get_yaxis().set_visible(False)\n",
    "    ax.set_title(\"Predicted {}\".format(preds[np.random.randint(preds.shape[0])]))\n",
    "\n",
    "plt.show()\n",
    "print(\"accuracy: {}\".format(np.nonzero(preds == y_test)[0].shape[0]/y_test.shape[0]))"
   ]
  },
  {
   "cell_type": "markdown",
   "id": "empty-minister",
   "metadata": {},
   "source": [
    "# Looking at the latent space"
   ]
  },
  {
   "cell_type": "code",
   "execution_count": null,
   "id": "acting-upset",
   "metadata": {},
   "outputs": [],
   "source": [
    "from matplotlib.offsetbox import OffsetImage, AnnotationBbox\n",
    "import cv2\n",
    "\n",
    "# Scatter with images instead of points\n",
    "def imscatter(x, y, ax, imageData, zoom):\n",
    "    images = []\n",
    "    for i in range(len(x)):\n",
    "        x0, y0 = x[i], y[i]\n",
    "        # Convert to image\n",
    "        img = imageData[i]*255.\n",
    "        img = img.astype(np.uint8).reshape([28,28])\n",
    "        img = cv2.cvtColor(img,cv2.COLOR_GRAY2RGB)\n",
    "        # Note: OpenCV uses BGR and plt uses RGB\n",
    "        image = OffsetImage(img, zoom=zoom)\n",
    "        ab = AnnotationBbox(image, (x0, y0), xycoords='data', frameon=False)\n",
    "        images.append(ax.add_artist(ab))\n",
    "    \n",
    "    ax.update_datalim(np.column_stack([x, y]))\n",
    "    ax.autoscale()\n",
    "\n",
    "\n",
    "# Show dataset images with T-sne projection of latent space encoding\n",
    "def computeTSNEProjectionOfLatentSpace(X, encoder, display=True):\n",
    "    # Compute latent space representation\n",
    "    print(\"Computing latent space projection...\")\n",
    "    X_encoded = encoder.predict(X)\n",
    "\n",
    "    # Compute t-SNE embedding of latent space\n",
    "    print(\"Computing t-SNE embedding...\")\n",
    "    tsne = manifold.TSNE(n_components=2, init='pca', random_state=0)\n",
    "    X_tsne = tsne.fit_transform(X_encoded)\n",
    "    if display:\n",
    "        # Plot images according to t-sne embedding\n",
    "        print(\"Plotting t-SNE visualization...\")\n",
    "        fig, ax = plt.subplots()\n",
    "        imscatter(X_tsne[:, 0], X_tsne[:, 1], imageData=X, ax=ax, zoom=0.6)\n",
    "        plt.show()\n",
    "    return X_tsne\n",
    "    \n",
    "X_tsne = computeTSNEProjectionOfLatentSpace(x_test[:100], encoder, display=True)"
   ]
  },
  {
   "cell_type": "markdown",
   "id": "lucky-phone",
   "metadata": {},
   "source": [
    "# Loading Darters"
   ]
  },
  {
   "cell_type": "code",
   "execution_count": null,
   "id": "reserved-denial",
   "metadata": {},
   "outputs": [],
   "source": []
  }
 ],
 "metadata": {
  "kernelspec": {
   "display_name": "Python 3",
   "language": "python",
   "name": "python3"
  },
  "language_info": {
   "codemirror_mode": {
    "name": "ipython",
    "version": 3
   },
   "file_extension": ".py",
   "mimetype": "text/x-python",
   "name": "python",
   "nbconvert_exporter": "python",
   "pygments_lexer": "ipython3",
   "version": "3.8.5"
  }
 },
 "nbformat": 4,
 "nbformat_minor": 5
}
