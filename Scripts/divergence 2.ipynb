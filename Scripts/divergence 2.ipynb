{
 "cells": [
  {
   "cell_type": "code",
   "execution_count": 11,
   "id": "optimum-quarterly",
   "metadata": {},
   "outputs": [],
   "source": [
    "import tensorflow as tf\n",
    "import tensorflow.keras as K\n",
    "from tensorflow.keras.layers import Dense, Conv2D, MaxPool2D, Softmax \n",
    "from tensorflow.keras.models import Model\n",
    "from tensorflow.keras.applications.vgg16 import VGG16"
   ]
  },
  {
   "cell_type": "code",
   "execution_count": 4,
   "id": "appropriate-diagram",
   "metadata": {},
   "outputs": [],
   "source": [
    "IMG_HEIGHT= 200\n",
    "IMG_WIDTH = 200\n",
    "\n",
    "encoder = VGG16(weights='imagenet', include_top=False, input_shape=(IMG_HEIGHT, IMG_WIDTH, 3))"
   ]
  },
  {
   "cell_type": "code",
   "execution_count": 7,
   "id": "figured-gender",
   "metadata": {},
   "outputs": [],
   "source": [
    "decoder = K.Sequential([    \n",
    "    Conv2D(filters=512, kernel_size=3),\n",
    "    Conv2D(filters=512, kernel_size=3),\n",
    "    Conv2D(filters=512, kernel_size=3),\n",
    "    MaxPool2D(pool_size=(2, 2)),\n",
    "    \n",
    "    Conv2D(filters=256, kernel_size=3),\n",
    "    Conv2D(filters=256, kernel_size=3),\n",
    "    Conv2D(filters=256, kernel_size=3),\n",
    "    MaxPool2D(pool_size=(2, 2)),\n",
    "    \n",
    "    Conv2D(filters=64, kernel_size=3),\n",
    "    Conv2D(filters=64, kernel_size=3),\n",
    "    Conv2D(filters=64, kernel_size=3),\n",
    "    MaxPool2D(pool_size=(2, 2)),\n",
    "    \n",
    "    Conv2D(filters=32, kernel_size=3),\n",
    "    Conv2D(filters=32, kernel_size=3),\n",
    "    MaxPool2D(pool_size=(2, 2)),\n",
    "    \n",
    "    Conv2D(filters=3, kernel_size=3),\n",
    "    Conv2D(filters=2, kernel_size=3),\n",
    "    Softmax()    \n",
    "])\n"
   ]
  },
  {
   "cell_type": "code",
   "execution_count": 14,
   "id": "chubby-neutral",
   "metadata": {},
   "outputs": [],
   "source": [
    "class Autoencoder(Model):\n",
    "    def __init__(self, encoder, decoder):\n",
    "        super(Autoencoder, self).__init__()\n",
    "        self.encoder = encoder\n",
    "        self.decoder = decoder\n",
    "        \n",
    "    def call(self, x):\n",
    "        encoded = self.encoder(x)\n",
    "        decoded = self.decoder(encoded)\n",
    "        return decoded\n",
    "\n",
    "autoencoder = Autoencoder(encoder, decoder)"
   ]
  },
  {
   "cell_type": "code",
   "execution_count": 16,
   "id": "greater-economy",
   "metadata": {},
   "outputs": [],
   "source": [
    "autoencoder.compile(optimizer='adam', loss=K.losses.MeanSquaredError())"
   ]
  },
  {
   "cell_type": "code",
   "execution_count": 1,
   "id": "surprised-field",
   "metadata": {},
   "outputs": [
    {
     "ename": "NameError",
     "evalue": "name 'tf' is not defined",
     "output_type": "error",
     "traceback": [
      "\u001b[0;31m---------------------------------------------------------------------------\u001b[0m",
      "\u001b[0;31mNameError\u001b[0m                                 Traceback (most recent call last)",
      "\u001b[0;32m<ipython-input-1-45fcafc0289d>\u001b[0m in \u001b[0;36m<module>\u001b[0;34m\u001b[0m\n\u001b[0;32m----> 1\u001b[0;31m tf.keras.utils.plot_model(\n\u001b[0m\u001b[1;32m      2\u001b[0m     \u001b[0mautoencoder\u001b[0m\u001b[0;34m,\u001b[0m \u001b[0mto_file\u001b[0m\u001b[0;34m=\u001b[0m\u001b[0;34m'model.png'\u001b[0m\u001b[0;34m,\u001b[0m \u001b[0mshow_shapes\u001b[0m\u001b[0;34m=\u001b[0m\u001b[0;32mFalse\u001b[0m\u001b[0;34m,\u001b[0m \u001b[0mshow_dtype\u001b[0m\u001b[0;34m=\u001b[0m\u001b[0;32mFalse\u001b[0m\u001b[0;34m,\u001b[0m\u001b[0;34m\u001b[0m\u001b[0;34m\u001b[0m\u001b[0m\n\u001b[1;32m      3\u001b[0m     \u001b[0mshow_layer_names\u001b[0m\u001b[0;34m=\u001b[0m\u001b[0;32mTrue\u001b[0m\u001b[0;34m,\u001b[0m \u001b[0mrankdir\u001b[0m\u001b[0;34m=\u001b[0m\u001b[0;34m'TB'\u001b[0m\u001b[0;34m,\u001b[0m \u001b[0mexpand_nested\u001b[0m\u001b[0;34m=\u001b[0m\u001b[0;32mFalse\u001b[0m\u001b[0;34m,\u001b[0m \u001b[0mdpi\u001b[0m\u001b[0;34m=\u001b[0m\u001b[0;36m96\u001b[0m\u001b[0;34m\u001b[0m\u001b[0;34m\u001b[0m\u001b[0m\n\u001b[1;32m      4\u001b[0m )\n",
      "\u001b[0;31mNameError\u001b[0m: name 'tf' is not defined"
     ]
    }
   ],
   "source": [
    "tf.keras.utils.plot_model(\n",
    "    autoencoder\n",
    ")"
   ]
  }
 ],
 "metadata": {
  "kernelspec": {
   "display_name": "Python 3",
   "language": "python",
   "name": "python3"
  },
  "language_info": {
   "codemirror_mode": {
    "name": "ipython",
    "version": 3
   },
   "file_extension": ".py",
   "mimetype": "text/x-python",
   "name": "python",
   "nbconvert_exporter": "python",
   "pygments_lexer": "ipython3",
   "version": "3.8.2"
  }
 },
 "nbformat": 4,
 "nbformat_minor": 5
}
